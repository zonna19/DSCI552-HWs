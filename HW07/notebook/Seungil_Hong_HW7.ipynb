{
 "cells": [
  {
   "cell_type": "markdown",
   "metadata": {},
   "source": [
    "<center><h1>Hong_Seungil_HW7</h1></center>"
   ]
  },
  {
   "cell_type": "markdown",
   "metadata": {},
   "source": [
    "Name: Seungil Hong\n",
    "<br>\n",
    "Github Username: zonna19\n",
    "<br>\n",
    "USC ID: 2375832093 "
   ]
  },
  {
   "cell_type": "markdown",
   "metadata": {},
   "source": [
    "## 1. Multi-class and Multi-Label Classification Using Support Vector Machines"
   ]
  },
  {
   "cell_type": "markdown",
   "metadata": {},
   "source": [
    "Import packages"
   ]
  },
  {
   "cell_type": "code",
   "execution_count": 12,
   "metadata": {},
   "outputs": [],
   "source": [
    "import numpy as np\n",
    "import pandas as pd\n",
    "from sklearn.model_selection import train_test_split"
   ]
  },
  {
   "cell_type": "markdown",
   "metadata": {},
   "source": [
    "### (a) Download the Anuran Calls (MFCCs) Data Set"
   ]
  },
  {
   "cell_type": "code",
   "execution_count": 4,
   "metadata": {},
   "outputs": [],
   "source": [
    "# Data read\n",
    "df_raw = pd.read_csv('..\\data\\Frogs_MFCCs.csv')"
   ]
  },
  {
   "cell_type": "code",
   "execution_count": 5,
   "metadata": {},
   "outputs": [
    {
     "data": {
      "text/html": [
       "<div>\n",
       "<style scoped>\n",
       "    .dataframe tbody tr th:only-of-type {\n",
       "        vertical-align: middle;\n",
       "    }\n",
       "\n",
       "    .dataframe tbody tr th {\n",
       "        vertical-align: top;\n",
       "    }\n",
       "\n",
       "    .dataframe thead th {\n",
       "        text-align: right;\n",
       "    }\n",
       "</style>\n",
       "<table border=\"1\" class=\"dataframe\">\n",
       "  <thead>\n",
       "    <tr style=\"text-align: right;\">\n",
       "      <th></th>\n",
       "      <th>MFCCs_ 1</th>\n",
       "      <th>MFCCs_ 2</th>\n",
       "      <th>MFCCs_ 3</th>\n",
       "      <th>MFCCs_ 4</th>\n",
       "      <th>MFCCs_ 5</th>\n",
       "      <th>MFCCs_ 6</th>\n",
       "      <th>MFCCs_ 7</th>\n",
       "      <th>MFCCs_ 8</th>\n",
       "      <th>MFCCs_ 9</th>\n",
       "      <th>MFCCs_10</th>\n",
       "      <th>...</th>\n",
       "      <th>MFCCs_17</th>\n",
       "      <th>MFCCs_18</th>\n",
       "      <th>MFCCs_19</th>\n",
       "      <th>MFCCs_20</th>\n",
       "      <th>MFCCs_21</th>\n",
       "      <th>MFCCs_22</th>\n",
       "      <th>Family</th>\n",
       "      <th>Genus</th>\n",
       "      <th>Species</th>\n",
       "      <th>RecordID</th>\n",
       "    </tr>\n",
       "  </thead>\n",
       "  <tbody>\n",
       "    <tr>\n",
       "      <th>0</th>\n",
       "      <td>1.0</td>\n",
       "      <td>0.152936</td>\n",
       "      <td>-0.105586</td>\n",
       "      <td>0.200722</td>\n",
       "      <td>0.317201</td>\n",
       "      <td>0.260764</td>\n",
       "      <td>0.100945</td>\n",
       "      <td>-0.150063</td>\n",
       "      <td>-0.171128</td>\n",
       "      <td>0.124676</td>\n",
       "      <td>...</td>\n",
       "      <td>-0.108351</td>\n",
       "      <td>-0.077623</td>\n",
       "      <td>-0.009568</td>\n",
       "      <td>0.057684</td>\n",
       "      <td>0.118680</td>\n",
       "      <td>0.014038</td>\n",
       "      <td>Leptodactylidae</td>\n",
       "      <td>Adenomera</td>\n",
       "      <td>AdenomeraAndre</td>\n",
       "      <td>1</td>\n",
       "    </tr>\n",
       "    <tr>\n",
       "      <th>1</th>\n",
       "      <td>1.0</td>\n",
       "      <td>0.171534</td>\n",
       "      <td>-0.098975</td>\n",
       "      <td>0.268425</td>\n",
       "      <td>0.338672</td>\n",
       "      <td>0.268353</td>\n",
       "      <td>0.060835</td>\n",
       "      <td>-0.222475</td>\n",
       "      <td>-0.207693</td>\n",
       "      <td>0.170883</td>\n",
       "      <td>...</td>\n",
       "      <td>-0.090974</td>\n",
       "      <td>-0.056510</td>\n",
       "      <td>-0.035303</td>\n",
       "      <td>0.020140</td>\n",
       "      <td>0.082263</td>\n",
       "      <td>0.029056</td>\n",
       "      <td>Leptodactylidae</td>\n",
       "      <td>Adenomera</td>\n",
       "      <td>AdenomeraAndre</td>\n",
       "      <td>1</td>\n",
       "    </tr>\n",
       "    <tr>\n",
       "      <th>2</th>\n",
       "      <td>1.0</td>\n",
       "      <td>0.152317</td>\n",
       "      <td>-0.082973</td>\n",
       "      <td>0.287128</td>\n",
       "      <td>0.276014</td>\n",
       "      <td>0.189867</td>\n",
       "      <td>0.008714</td>\n",
       "      <td>-0.242234</td>\n",
       "      <td>-0.219153</td>\n",
       "      <td>0.232538</td>\n",
       "      <td>...</td>\n",
       "      <td>-0.050691</td>\n",
       "      <td>-0.023590</td>\n",
       "      <td>-0.066722</td>\n",
       "      <td>-0.025083</td>\n",
       "      <td>0.099108</td>\n",
       "      <td>0.077162</td>\n",
       "      <td>Leptodactylidae</td>\n",
       "      <td>Adenomera</td>\n",
       "      <td>AdenomeraAndre</td>\n",
       "      <td>1</td>\n",
       "    </tr>\n",
       "    <tr>\n",
       "      <th>3</th>\n",
       "      <td>1.0</td>\n",
       "      <td>0.224392</td>\n",
       "      <td>0.118985</td>\n",
       "      <td>0.329432</td>\n",
       "      <td>0.372088</td>\n",
       "      <td>0.361005</td>\n",
       "      <td>0.015501</td>\n",
       "      <td>-0.194347</td>\n",
       "      <td>-0.098181</td>\n",
       "      <td>0.270375</td>\n",
       "      <td>...</td>\n",
       "      <td>-0.136009</td>\n",
       "      <td>-0.177037</td>\n",
       "      <td>-0.130498</td>\n",
       "      <td>-0.054766</td>\n",
       "      <td>-0.018691</td>\n",
       "      <td>0.023954</td>\n",
       "      <td>Leptodactylidae</td>\n",
       "      <td>Adenomera</td>\n",
       "      <td>AdenomeraAndre</td>\n",
       "      <td>1</td>\n",
       "    </tr>\n",
       "    <tr>\n",
       "      <th>4</th>\n",
       "      <td>1.0</td>\n",
       "      <td>0.087817</td>\n",
       "      <td>-0.068345</td>\n",
       "      <td>0.306967</td>\n",
       "      <td>0.330923</td>\n",
       "      <td>0.249144</td>\n",
       "      <td>0.006884</td>\n",
       "      <td>-0.265423</td>\n",
       "      <td>-0.172700</td>\n",
       "      <td>0.266434</td>\n",
       "      <td>...</td>\n",
       "      <td>-0.048885</td>\n",
       "      <td>-0.053074</td>\n",
       "      <td>-0.088550</td>\n",
       "      <td>-0.031346</td>\n",
       "      <td>0.108610</td>\n",
       "      <td>0.079244</td>\n",
       "      <td>Leptodactylidae</td>\n",
       "      <td>Adenomera</td>\n",
       "      <td>AdenomeraAndre</td>\n",
       "      <td>1</td>\n",
       "    </tr>\n",
       "    <tr>\n",
       "      <th>...</th>\n",
       "      <td>...</td>\n",
       "      <td>...</td>\n",
       "      <td>...</td>\n",
       "      <td>...</td>\n",
       "      <td>...</td>\n",
       "      <td>...</td>\n",
       "      <td>...</td>\n",
       "      <td>...</td>\n",
       "      <td>...</td>\n",
       "      <td>...</td>\n",
       "      <td>...</td>\n",
       "      <td>...</td>\n",
       "      <td>...</td>\n",
       "      <td>...</td>\n",
       "      <td>...</td>\n",
       "      <td>...</td>\n",
       "      <td>...</td>\n",
       "      <td>...</td>\n",
       "      <td>...</td>\n",
       "      <td>...</td>\n",
       "      <td>...</td>\n",
       "    </tr>\n",
       "    <tr>\n",
       "      <th>7190</th>\n",
       "      <td>1.0</td>\n",
       "      <td>-0.554504</td>\n",
       "      <td>-0.337717</td>\n",
       "      <td>0.035533</td>\n",
       "      <td>0.034511</td>\n",
       "      <td>0.443451</td>\n",
       "      <td>0.093889</td>\n",
       "      <td>-0.100753</td>\n",
       "      <td>0.037087</td>\n",
       "      <td>0.081075</td>\n",
       "      <td>...</td>\n",
       "      <td>0.069430</td>\n",
       "      <td>0.071001</td>\n",
       "      <td>0.021591</td>\n",
       "      <td>0.052449</td>\n",
       "      <td>-0.021860</td>\n",
       "      <td>-0.079860</td>\n",
       "      <td>Hylidae</td>\n",
       "      <td>Scinax</td>\n",
       "      <td>ScinaxRuber</td>\n",
       "      <td>60</td>\n",
       "    </tr>\n",
       "    <tr>\n",
       "      <th>7191</th>\n",
       "      <td>1.0</td>\n",
       "      <td>-0.517273</td>\n",
       "      <td>-0.370574</td>\n",
       "      <td>0.030673</td>\n",
       "      <td>0.068097</td>\n",
       "      <td>0.402890</td>\n",
       "      <td>0.096628</td>\n",
       "      <td>-0.116460</td>\n",
       "      <td>0.063727</td>\n",
       "      <td>0.089034</td>\n",
       "      <td>...</td>\n",
       "      <td>0.061127</td>\n",
       "      <td>0.068978</td>\n",
       "      <td>0.017745</td>\n",
       "      <td>0.046461</td>\n",
       "      <td>-0.015418</td>\n",
       "      <td>-0.101892</td>\n",
       "      <td>Hylidae</td>\n",
       "      <td>Scinax</td>\n",
       "      <td>ScinaxRuber</td>\n",
       "      <td>60</td>\n",
       "    </tr>\n",
       "    <tr>\n",
       "      <th>7192</th>\n",
       "      <td>1.0</td>\n",
       "      <td>-0.582557</td>\n",
       "      <td>-0.343237</td>\n",
       "      <td>0.029468</td>\n",
       "      <td>0.064179</td>\n",
       "      <td>0.385596</td>\n",
       "      <td>0.114905</td>\n",
       "      <td>-0.103317</td>\n",
       "      <td>0.070370</td>\n",
       "      <td>0.081317</td>\n",
       "      <td>...</td>\n",
       "      <td>0.082474</td>\n",
       "      <td>0.077771</td>\n",
       "      <td>-0.009688</td>\n",
       "      <td>0.027834</td>\n",
       "      <td>-0.000531</td>\n",
       "      <td>-0.080425</td>\n",
       "      <td>Hylidae</td>\n",
       "      <td>Scinax</td>\n",
       "      <td>ScinaxRuber</td>\n",
       "      <td>60</td>\n",
       "    </tr>\n",
       "    <tr>\n",
       "      <th>7193</th>\n",
       "      <td>1.0</td>\n",
       "      <td>-0.519497</td>\n",
       "      <td>-0.307553</td>\n",
       "      <td>-0.004922</td>\n",
       "      <td>0.072865</td>\n",
       "      <td>0.377131</td>\n",
       "      <td>0.086866</td>\n",
       "      <td>-0.115799</td>\n",
       "      <td>0.056979</td>\n",
       "      <td>0.089316</td>\n",
       "      <td>...</td>\n",
       "      <td>0.051796</td>\n",
       "      <td>0.069073</td>\n",
       "      <td>0.017963</td>\n",
       "      <td>0.041803</td>\n",
       "      <td>-0.027911</td>\n",
       "      <td>-0.096895</td>\n",
       "      <td>Hylidae</td>\n",
       "      <td>Scinax</td>\n",
       "      <td>ScinaxRuber</td>\n",
       "      <td>60</td>\n",
       "    </tr>\n",
       "    <tr>\n",
       "      <th>7194</th>\n",
       "      <td>1.0</td>\n",
       "      <td>-0.508833</td>\n",
       "      <td>-0.324106</td>\n",
       "      <td>0.062068</td>\n",
       "      <td>0.078211</td>\n",
       "      <td>0.397188</td>\n",
       "      <td>0.094596</td>\n",
       "      <td>-0.117672</td>\n",
       "      <td>0.058874</td>\n",
       "      <td>0.076180</td>\n",
       "      <td>...</td>\n",
       "      <td>0.061455</td>\n",
       "      <td>0.072983</td>\n",
       "      <td>-0.003980</td>\n",
       "      <td>0.031560</td>\n",
       "      <td>-0.029355</td>\n",
       "      <td>-0.087910</td>\n",
       "      <td>Hylidae</td>\n",
       "      <td>Scinax</td>\n",
       "      <td>ScinaxRuber</td>\n",
       "      <td>60</td>\n",
       "    </tr>\n",
       "  </tbody>\n",
       "</table>\n",
       "<p>7195 rows × 26 columns</p>\n",
       "</div>"
      ],
      "text/plain": [
       "      MFCCs_ 1  MFCCs_ 2  MFCCs_ 3  MFCCs_ 4  MFCCs_ 5  MFCCs_ 6  MFCCs_ 7  \\\n",
       "0          1.0  0.152936 -0.105586  0.200722  0.317201  0.260764  0.100945   \n",
       "1          1.0  0.171534 -0.098975  0.268425  0.338672  0.268353  0.060835   \n",
       "2          1.0  0.152317 -0.082973  0.287128  0.276014  0.189867  0.008714   \n",
       "3          1.0  0.224392  0.118985  0.329432  0.372088  0.361005  0.015501   \n",
       "4          1.0  0.087817 -0.068345  0.306967  0.330923  0.249144  0.006884   \n",
       "...        ...       ...       ...       ...       ...       ...       ...   \n",
       "7190       1.0 -0.554504 -0.337717  0.035533  0.034511  0.443451  0.093889   \n",
       "7191       1.0 -0.517273 -0.370574  0.030673  0.068097  0.402890  0.096628   \n",
       "7192       1.0 -0.582557 -0.343237  0.029468  0.064179  0.385596  0.114905   \n",
       "7193       1.0 -0.519497 -0.307553 -0.004922  0.072865  0.377131  0.086866   \n",
       "7194       1.0 -0.508833 -0.324106  0.062068  0.078211  0.397188  0.094596   \n",
       "\n",
       "      MFCCs_ 8  MFCCs_ 9  MFCCs_10  ...  MFCCs_17  MFCCs_18  MFCCs_19  \\\n",
       "0    -0.150063 -0.171128  0.124676  ... -0.108351 -0.077623 -0.009568   \n",
       "1    -0.222475 -0.207693  0.170883  ... -0.090974 -0.056510 -0.035303   \n",
       "2    -0.242234 -0.219153  0.232538  ... -0.050691 -0.023590 -0.066722   \n",
       "3    -0.194347 -0.098181  0.270375  ... -0.136009 -0.177037 -0.130498   \n",
       "4    -0.265423 -0.172700  0.266434  ... -0.048885 -0.053074 -0.088550   \n",
       "...        ...       ...       ...  ...       ...       ...       ...   \n",
       "7190 -0.100753  0.037087  0.081075  ...  0.069430  0.071001  0.021591   \n",
       "7191 -0.116460  0.063727  0.089034  ...  0.061127  0.068978  0.017745   \n",
       "7192 -0.103317  0.070370  0.081317  ...  0.082474  0.077771 -0.009688   \n",
       "7193 -0.115799  0.056979  0.089316  ...  0.051796  0.069073  0.017963   \n",
       "7194 -0.117672  0.058874  0.076180  ...  0.061455  0.072983 -0.003980   \n",
       "\n",
       "      MFCCs_20  MFCCs_21  MFCCs_22           Family      Genus  \\\n",
       "0     0.057684  0.118680  0.014038  Leptodactylidae  Adenomera   \n",
       "1     0.020140  0.082263  0.029056  Leptodactylidae  Adenomera   \n",
       "2    -0.025083  0.099108  0.077162  Leptodactylidae  Adenomera   \n",
       "3    -0.054766 -0.018691  0.023954  Leptodactylidae  Adenomera   \n",
       "4    -0.031346  0.108610  0.079244  Leptodactylidae  Adenomera   \n",
       "...        ...       ...       ...              ...        ...   \n",
       "7190  0.052449 -0.021860 -0.079860          Hylidae     Scinax   \n",
       "7191  0.046461 -0.015418 -0.101892          Hylidae     Scinax   \n",
       "7192  0.027834 -0.000531 -0.080425          Hylidae     Scinax   \n",
       "7193  0.041803 -0.027911 -0.096895          Hylidae     Scinax   \n",
       "7194  0.031560 -0.029355 -0.087910          Hylidae     Scinax   \n",
       "\n",
       "             Species  RecordID  \n",
       "0     AdenomeraAndre         1  \n",
       "1     AdenomeraAndre         1  \n",
       "2     AdenomeraAndre         1  \n",
       "3     AdenomeraAndre         1  \n",
       "4     AdenomeraAndre         1  \n",
       "...              ...       ...  \n",
       "7190     ScinaxRuber        60  \n",
       "7191     ScinaxRuber        60  \n",
       "7192     ScinaxRuber        60  \n",
       "7193     ScinaxRuber        60  \n",
       "7194     ScinaxRuber        60  \n",
       "\n",
       "[7195 rows x 26 columns]"
      ]
     },
     "execution_count": 5,
     "metadata": {},
     "output_type": "execute_result"
    }
   ],
   "source": [
    "df_raw"
   ]
  },
  {
   "cell_type": "code",
   "execution_count": 7,
   "metadata": {},
   "outputs": [
    {
     "name": "stdout",
     "output_type": "stream",
     "text": [
      "Missing Data columns\n",
      " Series([], dtype: int64) \n",
      "==========================\n"
     ]
    }
   ],
   "source": [
    "# Identify features with missing values\n",
    "missing_data = df_raw.isnull().sum()\n",
    "\n",
    "# print columns with missing values\n",
    "print(\"Missing Data columns\\n\", missing_data[missing_data > 0],\"\\n==========================\")  \n"
   ]
  },
  {
   "cell_type": "code",
   "execution_count": 9,
   "metadata": {},
   "outputs": [],
   "source": [
    "# Split data into training and test sets (30%)\n",
    "raw_tr, raw_te = train_test_split(df_raw, test_size=0.30, random_state=42)"
   ]
  },
  {
   "cell_type": "markdown",
   "metadata": {},
   "source": [
    "### (b) Train a classifier for each label"
   ]
  },
  {
   "cell_type": "markdown",
   "metadata": {},
   "source": [
    "#### (i) Research"
   ]
  },
  {
   "cell_type": "markdown",
   "metadata": {},
   "source": [
    "> Exact Match and Hamming Loss are two methods used for evaluating multi-label classification models:\n",
    "\n",
    "> * Exact Match (also known as Subset Accuracy): This is the most strict metric, as it requires the predicted set of labels to exactly match the true set of labels for each sample. It's a harsh metric because it doesn't give any partial credit for being partially correct.\n",
    "\n",
    "> * Hamming Loss: This calculates the average Hamming loss or Hamming distance between two sets of samples. The Hamming loss is the fraction of labels that are incorrectly predicted, so it's a measure of how many label predictions were incorrect out of all label predictions made. It is more forgiving than the Exact Match because it doesn't require all labels to be correct for the sample to be considered correct. Instead, it penalizes only the individual incorrect labels​​​​.\n",
    "\n",
    "> Reference https://scikit-learn.org/stable/modules/generated/sklearn.metrics.accuracy_score.html"
   ]
  },
  {
   "cell_type": "code",
   "execution_count": 59,
   "metadata": {},
   "outputs": [],
   "source": [
    "from sklearn.model_selection import GridSearchCV\n",
    "from sklearn.svm import SVC\n",
    "from sklearn.metrics import make_scorer, accuracy_score, classification_report, hamming_loss\n",
    "from sklearn.preprocessing import MultiLabelBinarizer\n",
    "\n"
   ]
  },
  {
   "cell_type": "markdown",
   "metadata": {},
   "source": [
    "#### (ii) Train a SVM for each of the labels"
   ]
  },
  {
   "cell_type": "code",
   "execution_count": 43,
   "metadata": {},
   "outputs": [],
   "source": [
    "# Split Attributes and Classifications\n",
    "# For train\n",
    "X_tr_raw = raw_tr.iloc[:, :-4]\n",
    "\n",
    "# For test\n",
    "X_te_raw = raw_te.iloc[:, :-4]"
   ]
  },
  {
   "cell_type": "markdown",
   "metadata": {},
   "source": [
    "* Non-standardized dataset"
   ]
  },
  {
   "cell_type": "code",
   "execution_count": 53,
   "metadata": {},
   "outputs": [],
   "source": [
    "# Define the parameter grid for 'C' and 'gamma'\n",
    "param_grid = {\n",
    "    'C': [1, 10, 100, 1000 ],  # Example values\n",
    "    'gamma': [1, 2, 3, 4]  # Example values\n",
    "}\n",
    "\n",
    "# Initialize the scorer and collect predictions\n",
    "scorer = make_scorer(accuracy_score)\n",
    "\n",
    "num_labels = 3  # You have three labels: Family, Genus, Species\n",
    "num_samples = raw_te.shape[0]  # Number of samples in your test set\n",
    "\n",
    "# Initialize a matrix to hold all predictions\n",
    "all_predictions = np.empty((num_samples, num_labels), dtype=object)\n"
   ]
  },
  {
   "cell_type": "code",
   "execution_count": 54,
   "metadata": {},
   "outputs": [
    {
     "name": "stdout",
     "output_type": "stream",
     "text": [
      "Best params for Family: C=10, gamma=2\n",
      "Test Accuracy for Family: 0.9940\n",
      "                 precision    recall  f1-score   support\n",
      "\n",
      "      Bufonidae       1.00      0.89      0.94        27\n",
      "  Dendrobatidae       0.99      1.00      1.00       162\n",
      "        Hylidae       0.99      1.00      0.99       623\n",
      "Leptodactylidae       1.00      0.99      1.00      1347\n",
      "\n",
      "       accuracy                           0.99      2159\n",
      "      macro avg       0.99      0.97      0.98      2159\n",
      "   weighted avg       0.99      0.99      0.99      2159\n",
      "\n",
      "Best params for Genus: C=10, gamma=3\n",
      "Test Accuracy for Genus: 0.9898\n",
      "               precision    recall  f1-score   support\n",
      "\n",
      "    Adenomera       0.99      1.00      1.00      1251\n",
      "     Ameerega       0.99      1.00      1.00       162\n",
      "Dendropsophus       1.00      0.96      0.98        84\n",
      "    Hypsiboas       0.98      1.00      0.99       468\n",
      "Leptodactylus       1.00      0.97      0.98        96\n",
      "Osteocephalus       0.93      0.82      0.87        34\n",
      "     Rhinella       1.00      0.93      0.96        27\n",
      "       Scinax       1.00      0.92      0.96        37\n",
      "\n",
      "     accuracy                           0.99      2159\n",
      "    macro avg       0.99      0.95      0.97      2159\n",
      " weighted avg       0.99      0.99      0.99      2159\n",
      "\n",
      "Best params for Species: C=10, gamma=3\n",
      "Test Accuracy for Species: 0.9884\n",
      "                        precision    recall  f1-score   support\n",
      "\n",
      "        AdenomeraAndre       1.00      0.97      0.98       220\n",
      "AdenomeraHylaedactylus       1.00      1.00      1.00      1031\n",
      "    Ameeregatrivittata       0.99      1.00      1.00       162\n",
      "            HylaMinuta       1.00      0.96      0.98        84\n",
      "  HypsiboasCinerascens       0.98      0.98      0.98       135\n",
      "     HypsiboasCordobae       0.97      1.00      0.98       333\n",
      "   LeptodactylusFuscus       0.99      0.97      0.98        96\n",
      " OsteocephalusOophagus       0.85      0.85      0.85        34\n",
      "     Rhinellagranulosa       1.00      0.93      0.96        27\n",
      "           ScinaxRuber       1.00      0.95      0.97        37\n",
      "\n",
      "              accuracy                           0.99      2159\n",
      "             macro avg       0.98      0.96      0.97      2159\n",
      "          weighted avg       0.99      0.99      0.99      2159\n",
      "\n"
     ]
    }
   ],
   "source": [
    "# Initialize and train the SVMs with cross-validation for each label\n",
    "for i, label in enumerate(['Family', 'Genus', 'Species']):\n",
    "    y_train = raw_tr[label]\n",
    "    svm = SVC(kernel='rbf')\n",
    "    clf = GridSearchCV(svm, param_grid, cv=10, scoring=scorer)\n",
    "    clf.fit(X_tr_raw, y_train)\n",
    "    best_C = clf.best_params_['C']\n",
    "    best_gamma = clf.best_params_['gamma']\n",
    "    print(f\"Best params for {label}: C={best_C}, gamma={best_gamma}\")\n",
    "\n",
    "    svm_best = SVC(kernel='rbf', C=best_C, gamma=best_gamma)\n",
    "    svm_best.fit(X_tr_raw, y_train)\n",
    "    y_te_pred = svm_best.predict(X_te_raw)\n",
    "    all_predictions[:, i] = y_te_pred  # Fill the column with predictions for the current label\n",
    "    te_accuracy = accuracy_score(raw_te[label], y_te_pred)\n",
    "    \n",
    "    print(f\"Test Accuracy for {label}: {te_accuracy:.4f}\")\n",
    "    print(classification_report(raw_te[label], y_te_pred))"
   ]
  },
  {
   "cell_type": "code",
   "execution_count": 62,
   "metadata": {},
   "outputs": [
    {
     "name": "stdout",
     "output_type": "stream",
     "text": [
      "Exact Match : 0.9861\n",
      "Hamming Loss: 0.0025\n"
     ]
    }
   ],
   "source": [
    "# Instantiate the binarizer\n",
    "mlb = MultiLabelBinarizer()\n",
    "\n",
    "# Binarize the true labels\n",
    "true_labels_binarized = mlb.fit_transform(raw_te[['Family', 'Genus', 'Species']].values)\n",
    "\n",
    "# Binarize the predictions\n",
    "predictions_binarized = mlb.transform(all_predictions)\n",
    "\n",
    "# Calculate Exact Match (Subset Accuracy) across all labels\n",
    "exact_matches = np.all(true_labels_binarized == predictions_binarized, axis=1)\n",
    "exact_match_score = np.mean(exact_matches)\n",
    "print(f'Exact Match : {exact_match_score:.4f}')\n",
    "\n",
    "# Calculate Hamming Loss across all labels using the binarized data\n",
    "hamm_loss = hamming_loss(true_labels_binarized, predictions_binarized)\n",
    "print(f'Hamming Loss: {hamm_loss:.4f}')"
   ]
  },
  {
   "cell_type": "markdown",
   "metadata": {},
   "source": [
    "> * Exact Match (Subset Accuracy): 0.9861\n",
    ">> This score implies that in 98.61% of instances, the model's predictions were entirely correct across all labels. In other words, for nearly all the samples, every predicted label matched the true label. A sample's predicted label set to be exactly the same as the true set to be considered correct. \n",
    "> * Hamming Loss: 0.0025\n",
    ">> The Hamming Loss is the fraction of labels that are incorrectly predicted, which means it's the average number of label errors per sample. A lower score is better. Specifically, it means that, on average, only 0.25% of the labels were incorrectly predicted."
   ]
  },
  {
   "cell_type": "markdown",
   "metadata": {},
   "source": [
    "* Standardize the dataset"
   ]
  },
  {
   "cell_type": "code",
   "execution_count": 63,
   "metadata": {},
   "outputs": [],
   "source": [
    "from sklearn.preprocessing import StandardScaler\n",
    "\n",
    "scaler = StandardScaler()\n",
    "X_tr_scale = scaler.fit_transform(X_tr_raw)\n",
    "X_te_scale = scaler.fit_transform(X_te_raw)"
   ]
  },
  {
   "cell_type": "code",
   "execution_count": 66,
   "metadata": {},
   "outputs": [
    {
     "name": "stdout",
     "output_type": "stream",
     "text": [
      "Best params for Family: C=10, gamma=0.1\n",
      "Test Accuracy for Family: 0.9935\n",
      "                 precision    recall  f1-score   support\n",
      "\n",
      "      Bufonidae       1.00      0.89      0.94        27\n",
      "  Dendrobatidae       1.00      1.00      1.00       162\n",
      "        Hylidae       0.98      1.00      0.99       623\n",
      "Leptodactylidae       1.00      0.99      1.00      1347\n",
      "\n",
      "       accuracy                           0.99      2159\n",
      "      macro avg       0.99      0.97      0.98      2159\n",
      "   weighted avg       0.99      0.99      0.99      2159\n",
      "\n",
      "Best params for Genus: C=10, gamma=0.1\n",
      "Test Accuracy for Genus: 0.9884\n",
      "               precision    recall  f1-score   support\n",
      "\n",
      "    Adenomera       1.00      1.00      1.00      1251\n",
      "     Ameerega       1.00      1.00      1.00       162\n",
      "Dendropsophus       1.00      0.96      0.98        84\n",
      "    Hypsiboas       0.96      1.00      0.98       468\n",
      "Leptodactylus       1.00      0.96      0.98        96\n",
      "Osteocephalus       0.90      0.82      0.86        34\n",
      "     Rhinella       1.00      0.89      0.94        27\n",
      "       Scinax       1.00      0.92      0.96        37\n",
      "\n",
      "     accuracy                           0.99      2159\n",
      "    macro avg       0.98      0.94      0.96      2159\n",
      " weighted avg       0.99      0.99      0.99      2159\n",
      "\n",
      "Best params for Species: C=1000, gamma=0.01\n",
      "Test Accuracy for Species: 0.9880\n",
      "                        precision    recall  f1-score   support\n",
      "\n",
      "        AdenomeraAndre       1.00      0.97      0.98       220\n",
      "AdenomeraHylaedactylus       1.00      1.00      1.00      1031\n",
      "    Ameeregatrivittata       0.99      1.00      0.99       162\n",
      "            HylaMinuta       0.98      0.98      0.98        84\n",
      "  HypsiboasCinerascens       0.95      0.98      0.96       135\n",
      "     HypsiboasCordobae       0.98      1.00      0.99       333\n",
      "   LeptodactylusFuscus       1.00      0.97      0.98        96\n",
      " OsteocephalusOophagus       0.91      0.85      0.88        34\n",
      "     Rhinellagranulosa       0.93      0.96      0.95        27\n",
      "           ScinaxRuber       1.00      0.92      0.96        37\n",
      "\n",
      "              accuracy                           0.99      2159\n",
      "             macro avg       0.97      0.96      0.97      2159\n",
      "          weighted avg       0.99      0.99      0.99      2159\n",
      "\n"
     ]
    }
   ],
   "source": [
    "# Do the same with standardized datasets\n",
    "param_grid = {\n",
    "    'C': [1, 10, 100, 1000 ],  # Example values\n",
    "    'gamma': [0.001, 0.01, 0.1, 1, 2, 3]  # Example values\n",
    "}\n",
    "\n",
    "num_labels = 3  # You have three labels: Family, Genus, Species\n",
    "num_samples = raw_te.shape[0]  # Number of samples in your test set\n",
    "\n",
    "# Initialize a matrix to hold all predictions\n",
    "all_predictions = np.empty((num_samples, num_labels), dtype=object)\n",
    "\n",
    "# Initialize the scorer\n",
    "scorer = make_scorer(accuracy_score)\n",
    "\n",
    "# Initialize and train the SVMs with cross-validation for each label\n",
    "for i, label in enumerate(['Family', 'Genus', 'Species']):\n",
    "    y_train = raw_tr[label]\n",
    "    svm = SVC(kernel='rbf')\n",
    "    clf = GridSearchCV(svm, param_grid, cv=10, scoring=scorer)\n",
    "    clf.fit(X_tr_scale, y_train)\n",
    "    best_C = clf.best_params_['C']\n",
    "    best_gamma = clf.best_params_['gamma']\n",
    "    print(f\"Best params for {label}: C={best_C}, gamma={best_gamma}\")\n",
    "\n",
    "    svm_best = SVC(kernel='rbf', C=best_C, gamma=best_gamma)\n",
    "    svm_best.fit(X_tr_scale, y_train)\n",
    "    y_te_pred = svm_best.predict(X_te_scale)\n",
    "    all_predictions[:, i] = y_te_pred  # Fill the column with predictions for the current label\n",
    "    te_accuracy = accuracy_score(raw_te[label], y_te_pred)\n",
    "    \n",
    "    print(f\"Test Accuracy for {label}: {te_accuracy:.4f}\")\n",
    "    print(classification_report(raw_te[label], y_te_pred))"
   ]
  },
  {
   "cell_type": "code",
   "execution_count": 67,
   "metadata": {},
   "outputs": [
    {
     "name": "stdout",
     "output_type": "stream",
     "text": [
      "Exact Match : 0.9824\n",
      "Hamming Loss: 0.0027\n"
     ]
    }
   ],
   "source": [
    "# Instantiate the binarizer\n",
    "mlb = MultiLabelBinarizer()\n",
    "\n",
    "# Binarize the true labels\n",
    "true_labels_binarized = mlb.fit_transform(raw_te[['Family', 'Genus', 'Species']].values)\n",
    "\n",
    "# Binarize the predictions\n",
    "predictions_binarized = mlb.transform(all_predictions)\n",
    "\n",
    "# Calculate Exact Match (Subset Accuracy) across all labels\n",
    "exact_matches = np.all(true_labels_binarized == predictions_binarized, axis=1)\n",
    "exact_match_score = np.mean(exact_matches)\n",
    "print(f'Exact Match : {exact_match_score:.4f}')\n",
    "\n",
    "# Calculate Hamming Loss across all labels using the binarized data\n",
    "hamm_loss = hamming_loss(true_labels_binarized, predictions_binarized)\n",
    "print(f'Hamming Loss: {hamm_loss:.4f}')"
   ]
  },
  {
   "attachments": {},
   "cell_type": "markdown",
   "metadata": {},
   "source": [
    "#### (iii) Repeat 1(b)ii with L1-penalized SVMs"
   ]
  },
  {
   "cell_type": "code",
   "execution_count": null,
   "metadata": {},
   "outputs": [],
   "source": []
  },
  {
   "attachments": {},
   "cell_type": "markdown",
   "metadata": {},
   "source": [
    "#### (iv) Repeat 1(b)iii by using SMOTE or any other method for imbalance"
   ]
  },
  {
   "cell_type": "code",
   "execution_count": null,
   "metadata": {},
   "outputs": [],
   "source": []
  },
  {
   "cell_type": "markdown",
   "metadata": {},
   "source": [
    "## 2. K-Means Clustering on a Multi-Class and Multi-Label Data Set"
   ]
  },
  {
   "cell_type": "markdown",
   "metadata": {},
   "source": [
    "### (a) Use k-means clustering"
   ]
  },
  {
   "cell_type": "code",
   "execution_count": null,
   "metadata": {},
   "outputs": [],
   "source": []
  },
  {
   "cell_type": "markdown",
   "metadata": {},
   "source": [
    "### (b) Determine which family is the majority"
   ]
  },
  {
   "cell_type": "code",
   "execution_count": null,
   "metadata": {},
   "outputs": [],
   "source": []
  },
  {
   "cell_type": "markdown",
   "metadata": {},
   "source": [
    "### (c) Calculate the average Hamming distance, Hamming score, and Hamming loss"
   ]
  },
  {
   "cell_type": "code",
   "execution_count": null,
   "metadata": {},
   "outputs": [],
   "source": []
  },
  {
   "cell_type": "markdown",
   "metadata": {},
   "source": [
    "## 3. ISLR 12.6.2"
   ]
  },
  {
   "cell_type": "markdown",
   "metadata": {},
   "source": []
  }
 ],
 "metadata": {
  "kernelspec": {
   "display_name": "Python 3",
   "language": "python",
   "name": "python3"
  },
  "language_info": {
   "codemirror_mode": {
    "name": "ipython",
    "version": 3
   },
   "file_extension": ".py",
   "mimetype": "text/x-python",
   "name": "python",
   "nbconvert_exporter": "python",
   "pygments_lexer": "ipython3",
   "version": "3.11.4"
  },
  "orig_nbformat": 4,
  "vscode": {
   "interpreter": {
    "hash": "3c20c2d94d2527936fe0f3a300eb11db30fed84423423838e2f93b74eb7aaebc"
   }
  }
 },
 "nbformat": 4,
 "nbformat_minor": 2
}
