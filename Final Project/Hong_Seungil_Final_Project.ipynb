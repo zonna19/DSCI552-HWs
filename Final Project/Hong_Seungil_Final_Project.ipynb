{
 "cells": [
  {
   "cell_type": "markdown",
   "metadata": {},
   "source": [
    "<center><h1>Hong_Seungil_Final Project</h1></center>"
   ]
  },
  {
   "cell_type": "markdown",
   "metadata": {},
   "source": [
    "Name: Seungil Hong\n",
    "<br>\n",
    "Github Username: zonna19\n",
    "<br>\n",
    "USC ID: 2375832093 "
   ]
  },
  {
   "cell_type": "markdown",
   "metadata": {},
   "source": [
    "## (a) and (b) Data Exploration and Pre-processing\n",
    "#### Referring the sample data preparation"
   ]
  },
  {
   "cell_type": "code",
   "execution_count": 1,
   "metadata": {},
   "outputs": [
    {
     "name": "stderr",
     "output_type": "stream",
     "text": [
      "c:\\ProgramData\\Anaconda3\\Lib\\site-packages\\paramiko\\transport.py:219: CryptographyDeprecationWarning: Blowfish has been deprecated\n",
      "  \"class\": algorithms.Blowfish,\n"
     ]
    },
    {
     "name": "stdout",
     "output_type": "stream",
     "text": [
      "WARNING:tensorflow:From C:\\Users\\JUNGHONG\\AppData\\Roaming\\Python\\Python311\\site-packages\\keras\\src\\losses.py:2976: The name tf.losses.sparse_softmax_cross_entropy is deprecated. Please use tf.compat.v1.losses.sparse_softmax_cross_entropy instead.\n",
      "\n"
     ]
    }
   ],
   "source": [
    "import os\n",
    "import os.path as op\n",
    "import json\n",
    "from pathlib import Path\n",
    "import shutil\n",
    "import logging\n",
    "import numpy as np\n",
    "from tqdm import tqdm\n",
    "from skimage import io\n",
    "import keras\n",
    "import math\n",
    "\n",
    "import tensorflow as tf\n",
    "\n",
    "from matplotlib import pyplot as plt\n",
    "import random\n",
    "from PIL import Image \n",
    "from tensorflow.keras import layers, models, regularizers, callbacks\n",
    "import warnings\n",
    "warnings.filterwarnings('ignore')\n",
    "\n",
    "from tensorflow.keras.models import load_model\n",
    "from tensorflow.keras.optimizers import Adam\n",
    "\n",
    "from sklearn.metrics import precision_score, recall_score, f1_score\n",
    "from sklearn.metrics import classification_report\n",
    "\n",
    "from tensorflow.keras.models import Sequential\n",
    "from tensorflow.keras.layers import Conv2D, BatchNormalization, ReLU, MaxPooling2D, Dropout, Flatten, Dense\n",
    "from tensorflow.keras.regularizers import l2\n",
    "from tensorflow.keras.callbacks import EarlyStopping, ModelCheckpoint"
   ]
  },
  {
   "cell_type": "code",
   "execution_count": 2,
   "metadata": {},
   "outputs": [],
   "source": [
    "# Logging configuration\n",
    "logging.basicConfig(level=logging.INFO,\n",
    "                    datefmt='%H:%M:%S',\n",
    "                    format='%(asctime)s | %(levelname)-5s | %(module)-15s | %(message)s')\n",
    "\n",
    "IMAGE_SIZE = (299, 299)  # All images contained in this dataset are 299x299 (originally, to match Inception v3 input size)\n",
    "SEED = 17\n",
    "\n",
    "# Head directory containing all image subframes. Update with the relative path of your data directory\n",
    "data_head_dir = Path('./data')\n",
    "\n",
    "# Find all subframe directories\n",
    "subdirs = [Path(subdir.stem) for subdir in data_head_dir.iterdir() if subdir.is_dir()]\n",
    "src_image_ids = ['_'.join(a_path.name.split('_')[:3]) for a_path in subdirs]"
   ]
  },
  {
   "cell_type": "markdown",
   "metadata": {},
   "source": [
    "> Data Splits"
   ]
  },
  {
   "cell_type": "code",
   "execution_count": 3,
   "metadata": {},
   "outputs": [],
   "source": [
    "# Load train/val/test subframe IDs\n",
    "def load_text_ids(file_path):\n",
    "    \"\"\"Simple helper to load all lines from a text file\"\"\"\n",
    "    with open(file_path, 'r') as f:\n",
    "        lines = [line.strip() for line in f.readlines()]\n",
    "    return lines\n",
    "\n",
    "# Load the subframe names for the three data subsets\n",
    "train_ids = load_text_ids('./train_source_images.txt')\n",
    "validate_ids = load_text_ids('./val_source_images.txt')\n",
    "test_ids = load_text_ids('./test_source_images.txt')\n",
    "\n",
    "# Generate a list containing the dataset split for the matching subdirectory names\n",
    "subdir_splits = []\n",
    "for src_id in src_image_ids:\n",
    "    if src_id in train_ids:\n",
    "        subdir_splits.append('train')\n",
    "    elif src_id in validate_ids:\n",
    "        subdir_splits.append('validate')\n",
    "    elif(src_id in test_ids):\n",
    "        subdir_splits.append('test')\n",
    "    else:\n",
    "        logging.warning(f'{src_id}: Did not find designated split in train/validate/test list.')\n",
    "        subdir_splits.append(None)"
   ]
  },
  {
   "cell_type": "markdown",
   "metadata": {},
   "source": [
    "## (b) Data Exploration and Pre-processing, Loading and pre processing the data\n",
    "##### Note that there are multiple ways to preprocess and load your data in order to train your model in tensorflow. We have provided one way to do it in the following cell. Feel free to use your own method and get better results."
   ]
  },
  {
   "cell_type": "code",
   "execution_count": 12,
   "metadata": {},
   "outputs": [],
   "source": [
    "def load_and_preprocess(img_loc, label):\n",
    "    def _inner_function(img_loc, label):\n",
    "        # Convert tensor to native type\n",
    "        img_loc_str = img_loc.numpy().decode('utf-8')\n",
    "        \n",
    "        # Load image using PIL and convert to RGB\n",
    "        img = Image.open(img_loc_str).convert('RGB')\n",
    "        \n",
    "        # Convert PIL image to numpy array\n",
    "        img = np.array(img)\n",
    "        \n",
    "        # Normalize the image to the [0, 1] range\n",
    "        img = img / 255.0\n",
    "\n",
    "        # Convert label to integer (assuming binary classification)\n",
    "        label = 1 if label.numpy().decode('utf-8') == 'frost' else 0\n",
    "        \n",
    "        return img, label\n",
    "\n",
    "    # Wrap the Python function\n",
    "    X, y = tf.py_function(_inner_function, [img_loc, label], [tf.float32, tf.int64])\n",
    "    \n",
    "    # Set the shape of the tensors\n",
    "    X.set_shape([299, 299, 3])\n",
    "    y.set_shape([])  # Scalar label\n",
    "    \n",
    "    return X, y\n",
    "\n",
    "def load_subdir_data(dir_path, image_size, seed=None):\n",
    "    \n",
    "    \"\"\"Helper to create a TF dataset from each image subdirectory\"\"\"\n",
    "    \n",
    "    # Grab only the classes that (1) we want to keep and (2) exist in this directory\n",
    "    tile_dir = dir_path / Path('tiles')\n",
    "    label_dir = dir_path /Path('labels')\n",
    "    \n",
    "    loc_list = []\n",
    "    \n",
    "    for folder in os.listdir(tile_dir):\n",
    "        if os.path.isdir(os.path.join(tile_dir, folder)):\n",
    "            for file in os.listdir(os.path.join(tile_dir, folder)):\n",
    "                if file.endswith(\".png\"):\n",
    "                    loc_list.append((os.path.join(os.path.join(tile_dir, folder), file), folder))\n",
    "\n",
    "    return loc_list\n",
    "\n",
    "# Loop over all subframes, loading each into a list\n",
    "tf_data_train, tf_data_test, tf_data_val = [], [], []\n",
    "tf_dataset_train_raw, tf_dataset_test, tf_dataset_val = [], [], []\n",
    "\n",
    "# Update the batch and buffer size as per your model requirements\n",
    "buffer_size = 64\n",
    "batch_size = 32\n",
    "\n",
    "for subdir, split in zip(subdirs, subdir_splits):\n",
    "    full_path = data_head_dir / subdir\n",
    "    if split=='validate':\n",
    "        tf_data_val.extend(load_subdir_data(full_path, IMAGE_SIZE, SEED))\n",
    "    elif split=='train':\n",
    "        tf_data_train.extend(load_subdir_data(full_path, IMAGE_SIZE, SEED))\n",
    "    elif split=='test':\n",
    "        tf_data_test.extend(load_subdir_data(full_path, IMAGE_SIZE, SEED))\n",
    "        \n",
    "random.shuffle(tf_data_train)\n",
    "img_list, label_list = zip(*tf_data_train)\n",
    "img_list_t = tf.convert_to_tensor(img_list)\n",
    "lb_list_t = tf.convert_to_tensor(label_list)\n",
    "\n",
    "tf_dataset_train_raw = tf.data.Dataset.from_tensor_slices((img_list_t, lb_list_t))\n",
    "tf_dataset_train_raw = tf_dataset_train_raw.map(load_and_preprocess, num_parallel_calls=tf.data.experimental.AUTOTUNE)\n",
    "tf_dataset_train_raw = tf_dataset_train_raw.shuffle(buffer_size=buffer_size).batch(batch_size) \n",
    "\n",
    "random.shuffle(tf_data_val)\n",
    "img_list, label_list = zip(*tf_data_val)\n",
    "img_list_t = tf.convert_to_tensor(img_list)\n",
    "lb_list_t = tf.convert_to_tensor(label_list)\n",
    "\n",
    "tf_dataset_val = tf.data.Dataset.from_tensor_slices((img_list_t, lb_list_t))\n",
    "tf_dataset_val = tf_dataset_val.map(load_and_preprocess, num_parallel_calls=tf.data.experimental.AUTOTUNE)\n",
    "tf_dataset_val = tf_dataset_val.shuffle(buffer_size=buffer_size).batch(batch_size) \n",
    "\n",
    "random.shuffle(tf_data_test)\n",
    "img_list, label_list = zip(*tf_data_test)\n",
    "img_list_t = tf.convert_to_tensor(img_list)\n",
    "lb_list_t = tf.convert_to_tensor(label_list)\n",
    "\n",
    "tf_dataset_test = tf.data.Dataset.from_tensor_slices((img_list_t, lb_list_t))\n",
    "tf_dataset_test = tf_dataset_test.map(load_and_preprocess, num_parallel_calls=tf.data.experimental.AUTOTUNE)\n",
    "tf_dataset_test = tf_dataset_test.shuffle(buffer_size=buffer_size).batch(batch_size) "
   ]
  },
  {
   "cell_type": "markdown",
   "metadata": {},
   "source": [
    "### ------"
   ]
  },
  {
   "cell_type": "markdown",
   "metadata": {},
   "source": [
    "## (c) Training CNN + MLP"
   ]
  },
  {
   "cell_type": "markdown",
   "metadata": {},
   "source": [
    "> perform empirical regularization, crop, randomly zoom, rotate, flip, contrast, and translate images in your training set for image augmentation. You can use various tools to do this, including OpenCV"
   ]
  },
  {
   "cell_type": "code",
   "execution_count": 7,
   "metadata": {},
   "outputs": [
    {
     "data": {
      "text/plain": [
       "'! pip install tensorflow_addons'"
      ]
     },
     "execution_count": 7,
     "metadata": {},
     "output_type": "execute_result"
    }
   ],
   "source": [
    "'''! pip install tensorflow_addons'''"
   ]
  },
  {
   "cell_type": "markdown",
   "metadata": {},
   "source": [
    "##### i. Augmentation"
   ]
  },
  {
   "cell_type": "code",
   "execution_count": 13,
   "metadata": {},
   "outputs": [],
   "source": [
    "import tensorflow_addons as tfa\n",
    "\n",
    "def augment(image, label):\n",
    "    # Randomly change brightness\n",
    "    image = tf.image.random_brightness(image, max_delta=0.1)\n",
    "    # Randomly change contrast\n",
    "    image = tf.image.random_contrast(image, lower=0.8, upper=1.2)\n",
    "    # Randomly rotate the image\n",
    "    angle = tf.random.uniform([], minval=-math.pi/4, maxval=math.pi/4)  # Random angle in [-45, 45] degrees\n",
    "    image = tfa.image.rotate(image, angle)\n",
    "\n",
    "    # We do not need to flip images since those NASA generated images can be very rarely fliped.\n",
    "    # Means assuming there are no artificial ones.\n",
    "    # And Mars cannot be flimed with fliped images  \n",
    "\n",
    "    return image, label\n",
    "\n",
    "# Apply the augment function to each element in the dataset\n",
    "tf_dataset_train = tf_dataset_train_raw.map(augment, num_parallel_calls=tf.data.experimental.AUTOTUNE)"
   ]
  },
  {
   "cell_type": "markdown",
   "metadata": {},
   "source": [
    "### ii. Train CNN + MLP"
   ]
  },
  {
   "cell_type": "markdown",
   "metadata": {},
   "source": [
    ">  train a three-layer CNN followed by a dense layer on the data. \n",
    "Choose the size of the kernels and depth of the layers and the number of neurons in the dense layer (MLP) on your own. \n",
    "Use ReLU’s in all of the layers. \n",
    "Use the softmax function, batch normalization and a dropout rate of 30%, L2 regularization, as well as ADAM optimizer. Use cross entropy loss. \n",
    "Train for at least 20 epochs and perform early stopping using the validation set.\n",
    "Keep the network parameters that have the lowest validation error. \n",
    "Plot the training and validation errors vs. epochs."
   ]
  },
  {
   "cell_type": "code",
   "execution_count": 14,
   "metadata": {},
   "outputs": [],
   "source": [
    "# Define the model\n",
    "model = Sequential([\n",
    "    # 1\n",
    "    Conv2D(32, (3, 3), padding='same', input_shape=(299, 299, 3), kernel_regularizer=l2(0.001)),\n",
    "    BatchNormalization(),\n",
    "    ReLU(),\n",
    "    MaxPooling2D(pool_size=(2, 2)),\n",
    "    \n",
    "    # 2\n",
    "    Conv2D(64, (3, 3), padding='same', kernel_regularizer=l2(0.001)),\n",
    "    BatchNormalization(),\n",
    "    ReLU(),\n",
    "    MaxPooling2D(pool_size=(2, 2)),\n",
    "\n",
    "    # 3 \n",
    "    Conv2D(128, (3, 3), padding='same', kernel_regularizer=l2(0.001)),\n",
    "    BatchNormalization(),\n",
    "    ReLU(),\n",
    "    MaxPooling2D(pool_size=(2, 2)),\n",
    "\n",
    "    Flatten(),\n",
    "    Dense(128, activation='relu', kernel_regularizer=l2(0.001)),\n",
    "    Dropout(0.3),\n",
    "    Dense(2, activation='softmax')  # for binary classification with softmax\n",
    "])"
   ]
  },
  {
   "cell_type": "code",
   "execution_count": 15,
   "metadata": {},
   "outputs": [
    {
     "name": "stdout",
     "output_type": "stream",
     "text": [
      "Epoch 1/20\n",
      "928/928 [==============================] - 1115s 1s/step - loss: 2.0225 - accuracy: 0.5888 - val_loss: 1.3524 - val_accuracy: 0.4746\n",
      "Epoch 2/20\n",
      "928/928 [==============================] - 1067s 1s/step - loss: 0.7929 - accuracy: 0.6319 - val_loss: 2.0983 - val_accuracy: 0.3218\n",
      "Epoch 3/20\n",
      "928/928 [==============================] - 1014s 1s/step - loss: 0.7132 - accuracy: 0.6248 - val_loss: 1.0157 - val_accuracy: 0.6657\n",
      "Epoch 4/20\n",
      "928/928 [==============================] - 1118s 1s/step - loss: 0.6923 - accuracy: 0.6338 - val_loss: 0.6634 - val_accuracy: 0.7899\n",
      "Epoch 5/20\n",
      "928/928 [==============================] - 1138s 1s/step - loss: 0.6836 - accuracy: 0.6350 - val_loss: 0.6630 - val_accuracy: 0.7827\n",
      "Epoch 6/20\n",
      "928/928 [==============================] - 1158s 1s/step - loss: 0.6486 - accuracy: 0.6272 - val_loss: 0.6032 - val_accuracy: 0.8274\n",
      "Epoch 7/20\n",
      "928/928 [==============================] - 1077s 1s/step - loss: 0.6296 - accuracy: 0.6254 - val_loss: 0.6289 - val_accuracy: 0.7795\n",
      "Epoch 8/20\n",
      "928/928 [==============================] - 1129s 1s/step - loss: 0.6328 - accuracy: 0.6168 - val_loss: 0.6586 - val_accuracy: 0.7145\n",
      "Epoch 9/20\n",
      "928/928 [==============================] - 1060s 1s/step - loss: 0.6352 - accuracy: 0.6160 - val_loss: 0.6354 - val_accuracy: 0.8116\n",
      "Epoch 10/20\n",
      "928/928 [==============================] - 1081s 1s/step - loss: 0.6185 - accuracy: 0.6310 - val_loss: 0.6036 - val_accuracy: 0.8004\n",
      "Epoch 11/20\n",
      "928/928 [==============================] - 1077s 1s/step - loss: 0.6232 - accuracy: 0.6246 - val_loss: 1.0835 - val_accuracy: 0.3343\n",
      "Epoch 12/20\n",
      "928/928 [==============================] - 1061s 1s/step - loss: 0.6116 - accuracy: 0.6369 - val_loss: 0.7784 - val_accuracy: 0.6566\n",
      "Epoch 13/20\n",
      "928/928 [==============================] - 1054s 1s/step - loss: 0.5961 - accuracy: 0.6478 - val_loss: 0.8222 - val_accuracy: 0.7015\n"
     ]
    }
   ],
   "source": [
    "# Compile the model\n",
    "model.compile(optimizer='adam', loss='sparse_categorical_crossentropy', metrics=['accuracy'])\n",
    "\n",
    "# Early stopping and model checkpointing\n",
    "early_stopping = EarlyStopping(monitor='val_loss', patience=7, restore_best_weights=True)\n",
    "model_checkpoint = ModelCheckpoint('best_model.h5', monitor='val_loss', save_best_only=True)\n",
    "\n",
    "history = model.fit(\n",
    "    tf_dataset_train,\n",
    "    epochs=20,\n",
    "    validation_data=tf_dataset_val,\n",
    "    callbacks=[early_stopping, model_checkpoint]\n",
    ")"
   ]
  },
  {
   "cell_type": "code",
   "execution_count": 16,
   "metadata": {},
   "outputs": [
    {
     "data": {
      "image/png": "[encoded data removed]",
      "text/plain": [
       "<Figure size 1200x400 with 2 Axes>"
      ]
     },
     "metadata": {},
     "output_type": "display_data"
    }
   ],
   "source": [
    "# Calculate error rates\n",
    "train_error = [1 - acc for acc in history.history['accuracy']]\n",
    "val_error = [1 - acc for acc in history.history['val_accuracy']]\n",
    "\n",
    "# Plotting\n",
    "plt.figure(figsize=(12, 4))\n",
    "\n",
    "# Plot for Training and Validation Loss\n",
    "plt.subplot(1, 2, 1)\n",
    "plt.plot(history.history['loss'], label='Training Loss', marker='o')  # Added marker\n",
    "plt.plot(history.history['val_loss'], label='Validation Loss', marker='o')  # Added marker\n",
    "plt.title('Training and Validation Loss')\n",
    "plt.xlabel('Epoch')\n",
    "plt.ylabel('Loss')\n",
    "plt.legend()\n",
    "\n",
    "# Plot for Training and Validation Error\n",
    "plt.subplot(1, 2, 2)\n",
    "plt.plot(train_error, label='Training Error', marker='o')  # Plotting error\n",
    "plt.plot(val_error, label='Validation Error', marker='o')  # Plotting error\n",
    "plt.title('Training and Validation Error')\n",
    "plt.xlabel('Epoch')\n",
    "plt.ylabel('Error Rate')\n",
    "plt.legend()\n",
    "\n",
    "plt.show()"
   ]
  },
  {
   "cell_type": "markdown",
   "metadata": {},
   "source": [
    "### iii. Report Precision, Recall, and F1 score for your model"
   ]
  },
  {
   "cell_type": "code",
   "execution_count": 20,
   "metadata": {},
   "outputs": [
    {
     "name": "stdout",
     "output_type": "stream",
     "text": [
      "401/401 [==============================] - 121s 301ms/step\n"
     ]
    }
   ],
   "source": [
    "best_model = load_model('best_model.h5')\n",
    "# Predict on the test dataset\n",
    "predictions = best_model.predict(tf_dataset_test)"
   ]
  },
  {
   "cell_type": "code",
   "execution_count": 19,
   "metadata": {},
   "outputs": [
    {
     "name": "stdout",
     "output_type": "stream",
     "text": [
      "              precision    recall  f1-score   support\n",
      "\n",
      "           0       0.35      0.60      0.44      4418\n",
      "           1       0.66      0.40      0.50      8405\n",
      "\n",
      "    accuracy                           0.47     12823\n",
      "   macro avg       0.50      0.50      0.47     12823\n",
      "weighted avg       0.55      0.47      0.48     12823\n",
      "\n"
     ]
    }
   ],
   "source": [
    "predicted_labels = np.argmax(predictions, axis=1)\n",
    "\n",
    "# Extracting True Labels from the Test Dataset\n",
    "true_labels = []\n",
    "for images, labels in tf_dataset_test.unbatch():\n",
    "    true_labels.append(labels.numpy())\n",
    "\n",
    "true_labels = np.array(true_labels)\n",
    "\n",
    "predicted_labels_flat = predicted_labels.flatten()\n",
    "true_labels_flat = true_labels.flatten()\n",
    "\n",
    "report = classification_report(true_labels_flat, predicted_labels_flat)\n",
    "print(report)"
   ]
  },
  {
   "cell_type": "markdown",
   "metadata": {},
   "source": [
    "## (d) Transfer Learning"
   ]
  },
  {
   "cell_type": "code",
   "execution_count": 22,
   "metadata": {},
   "outputs": [],
   "source": [
    "def load_and_preprocess_224(img_loc, label):\n",
    "  \"\"\"\n",
    "  Loads and preprocesses an image and its label.\n",
    "\n",
    "  Args:\n",
    "    img_loc: The location of the image file as a tf.string tensor.\n",
    "    label: The label of the image as a tf.string tensor.\n",
    "\n",
    "  Returns:\n",
    "    A tuple of the preprocessed image (tf.float32) and the label (tf.int64).\n",
    "  \"\"\"\n",
    "\n",
    "  def _inner_function_224(img_loc, label):\n",
    "    \"\"\"Inner function that performs the preprocessing.\"\"\"\n",
    "    # Convert tensor to native type\n",
    "    img_loc_str = img_loc.numpy().decode('utf-8')\n",
    "\n",
    "    # Load image using PIL and convert to RGB\n",
    "    img = Image.open(img_loc_str).convert('RGB')\n",
    "\n",
    "    # Resize the image to the desired size (224x224)\n",
    "    img = img.resize((224, 224), Image.ANTIALIAS)\n",
    "\n",
    "    # Convert PIL image to numpy array\n",
    "    img = np.array(img)\n",
    "\n",
    "    # Normalize the image to the [0, 1] range\n",
    "    img = img / 255.0\n",
    "\n",
    "    # Convert label to integer (assuming binary classification)\n",
    "    label = 1 if label.numpy().decode('utf-8') == 'frost' else 0\n",
    "\n",
    "    return img, label\n",
    "\n",
    "  # Wrap the Python function\n",
    "  X, y = tf.py_function(_inner_function_224, [img_loc, label], [tf.float32, tf.int64])\n",
    "\n",
    "  # Set the shape of the tensors\n",
    "  X.set_shape([224, 224, 3])  # Specify the new image size\n",
    "  y.set_shape([])  # Scalar label\n",
    "\n",
    "  return X, y\n",
    "\n",
    "IMAGE_SIZE = (224, 224) # For those Pre-trained models\n",
    "\n",
    "# Loop over all subframes, loading each into a list\n",
    "tf_data_train, tf_data_test, tf_data_val = [], [], []\n",
    "tf_dataset_train_raw, tf_dataset_test, tf_dataset_val = [], [], []\n",
    "\n",
    "# Update the batch and buffer size as per your model requirements\n",
    "buffer_size = 64\n",
    "batch_size = 5 # By problem states\n",
    "\n",
    "for subdir, split in zip(subdirs, subdir_splits):\n",
    "    full_path = data_head_dir / subdir\n",
    "    if split=='validate':\n",
    "        tf_data_val.extend(load_subdir_data(full_path, IMAGE_SIZE, SEED))\n",
    "    elif split=='train':\n",
    "        tf_data_train.extend(load_subdir_data(full_path, IMAGE_SIZE, SEED))\n",
    "    elif split=='test':\n",
    "        tf_data_test.extend(load_subdir_data(full_path, IMAGE_SIZE, SEED))\n",
    "        \n",
    "random.shuffle(tf_data_train)\n",
    "img_list, label_list = zip(*tf_data_train)\n",
    "img_list_t = tf.convert_to_tensor(img_list)\n",
    "lb_list_t = tf.convert_to_tensor(label_list)\n",
    "\n",
    "tf_dataset_train_raw = tf.data.Dataset.from_tensor_slices((img_list_t, lb_list_t))\n",
    "tf_dataset_train_raw = tf_dataset_train_raw.map(load_and_preprocess_224, num_parallel_calls=tf.data.experimental.AUTOTUNE)\n",
    "tf_dataset_train_raw = tf_dataset_train_raw.shuffle(buffer_size=buffer_size).batch(batch_size) \n",
    "\n",
    "random.shuffle(tf_data_val)\n",
    "img_list, label_list = zip(*tf_data_val)\n",
    "img_list_t = tf.convert_to_tensor(img_list)\n",
    "lb_list_t = tf.convert_to_tensor(label_list)\n",
    "\n",
    "tf_dataset_val = tf.data.Dataset.from_tensor_slices((img_list_t, lb_list_t))\n",
    "tf_dataset_val = tf_dataset_val.map(load_and_preprocess_224, num_parallel_calls=tf.data.experimental.AUTOTUNE)\n",
    "tf_dataset_val = tf_dataset_val.shuffle(buffer_size=buffer_size).batch(batch_size) \n",
    "\n",
    "random.shuffle(tf_data_test)\n",
    "img_list, label_list = zip(*tf_data_test)\n",
    "img_list_t = tf.convert_to_tensor(img_list)\n",
    "lb_list_t = tf.convert_to_tensor(label_list)\n",
    "\n",
    "tf_dataset_test = tf.data.Dataset.from_tensor_slices((img_list_t, lb_list_t))\n",
    "tf_dataset_test = tf_dataset_test.map(load_and_preprocess_224, num_parallel_calls=tf.data.experimental.AUTOTUNE)\n",
    "tf_dataset_test = tf_dataset_test.shuffle(buffer_size=buffer_size).batch(batch_size) "
   ]
  },
  {
   "cell_type": "code",
   "execution_count": 23,
   "metadata": {},
   "outputs": [],
   "source": [
    "import numpy as np\n",
    "import matplotlib.pyplot as plt\n",
    "import tensorflow as tf\n",
    "from tensorflow.keras.models import Model, Sequential\n",
    "from tensorflow.keras.layers import Dense, GlobalAveragePooling2D, BatchNormalization, Dropout, Activation\n",
    "from tensorflow.keras.callbacks import EarlyStopping, ModelCheckpoint\n",
    "from tensorflow.keras.optimizers import Adam\n",
    "from tensorflow.keras.utils import to_categorical"
   ]
  },
  {
   "cell_type": "markdown",
   "metadata": {},
   "source": [
    "### EfficientNetB0"
   ]
  },
  {
   "cell_type": "code",
   "execution_count": 24,
   "metadata": {},
   "outputs": [],
   "source": [
    "from tensorflow.keras.applications import EfficientNetB0\n",
    "from tensorflow.keras.applications.efficientnet import preprocess_input"
   ]
  },
  {
   "cell_type": "markdown",
   "metadata": {},
   "source": [
    "#### i. Pre-trained Model extraction"
   ]
  },
  {
   "cell_type": "code",
   "execution_count": 25,
   "metadata": {},
   "outputs": [],
   "source": [
    "# Load EfficientNetB0 with pre-trained ImageNet weights\n",
    "eff_base_model = EfficientNetB0(weights='imagenet', include_top=False, input_shape=(224, 224, 3))\n",
    "eff_base_model.trainable = False  # Freeze the model"
   ]
  },
  {
   "cell_type": "markdown",
   "metadata": {},
   "source": [
    "#### ii. Data agumentation"
   ]
  },
  {
   "cell_type": "code",
   "execution_count": 26,
   "metadata": {},
   "outputs": [],
   "source": [
    "# Apply the augment function to each element in the dataset\n",
    "tf_dataset_train = tf_dataset_train_raw.map(augment, num_parallel_calls=tf.data.experimental.AUTOTUNE)"
   ]
  },
  {
   "cell_type": "markdown",
   "metadata": {},
   "source": [
    "#### iii. Last layer"
   ]
  },
  {
   "cell_type": "code",
   "execution_count": 27,
   "metadata": {},
   "outputs": [],
   "source": [
    "efnet_model = Sequential([\n",
    "    eff_base_model,\n",
    "    GlobalAveragePooling2D(),\n",
    "    BatchNormalization(),\n",
    "    Dropout(0.3),\n",
    "    Dense(128, activation='relu'),\n",
    "    Dense(2, activation='softmax')  # Assuming binary classification\n",
    "])"
   ]
  },
  {
   "cell_type": "markdown",
   "metadata": {},
   "source": [
    "#### iv. Train using the features calculated by networks (EfficientNetB0)"
   ]
  },
  {
   "cell_type": "code",
   "execution_count": 33,
   "metadata": {},
   "outputs": [
    {
     "name": "stdout",
     "output_type": "stream",
     "text": [
      "Epoch 1/10\n"
     ]
    },
    {
     "name": "stdout",
     "output_type": "stream",
     "text": [
      "5936/5936 [==============================] - 702s 117ms/step - loss: 0.6796 - accuracy: 0.5864 - val_loss: 0.7700 - val_accuracy: 0.3218\n",
      "Epoch 2/10\n",
      "5936/5936 [==============================] - 718s 121ms/step - loss: 0.6780 - accuracy: 0.5876 - val_loss: 0.7717 - val_accuracy: 0.3218\n",
      "Epoch 3/10\n",
      "5936/5936 [==============================] - 704s 119ms/step - loss: 0.6778 - accuracy: 0.5878 - val_loss: 0.7711 - val_accuracy: 0.3218\n",
      "Epoch 4/10\n",
      "5936/5936 [==============================] - 719s 121ms/step - loss: 0.6778 - accuracy: 0.5878 - val_loss: 0.7725 - val_accuracy: 0.3218\n",
      "Epoch 5/10\n",
      "5936/5936 [==============================] - 658s 111ms/step - loss: 0.6778 - accuracy: 0.5878 - val_loss: 0.7728 - val_accuracy: 0.3218\n"
     ]
    }
   ],
   "source": [
    "# Compile the model\n",
    "efnet_model.compile(optimizer='adam', loss='sparse_categorical_crossentropy', metrics=['accuracy'])\n",
    "\n",
    "# Early stopping and model checkpointing\n",
    "early_stopping = EarlyStopping(monitor='val_loss', patience=4, restore_best_weights=True)\n",
    "model_checkpoint = ModelCheckpoint('best_model_eff.h5', monitor='val_loss', save_best_only=True)\n",
    "\n",
    "history_eff = efnet_model.fit(\n",
    "    tf_dataset_train,\n",
    "    epochs=10,\n",
    "    validation_data=tf_dataset_val,\n",
    "    callbacks=[early_stopping, model_checkpoint]\n",
    ")"
   ]
  },
  {
   "cell_type": "code",
   "execution_count": 34,
   "metadata": {},
   "outputs": [
    {
     "data": {
      "image/png": "[encoded data removed]",
      "text/plain": [
       "<Figure size 1200x400 with 2 Axes>"
      ]
     },
     "metadata": {},
     "output_type": "display_data"
    }
   ],
   "source": [
    "# Calculate error rates\n",
    "train_error = [1 - acc for acc in history_eff.history['accuracy']]\n",
    "val_error = [1 - acc for acc in history_eff.history['val_accuracy']]\n",
    "\n",
    "# Plotting\n",
    "plt.figure(figsize=(12, 4))\n",
    "\n",
    "# Plot for Training and Validation Loss\n",
    "plt.subplot(1, 2, 1)\n",
    "plt.plot(history_eff.history['loss'], label='Training Loss', marker='o')  # Added marker\n",
    "plt.plot(history_eff.history['val_loss'], label='Validation Loss', marker='o')  # Added marker\n",
    "plt.title('Training and Validation Loss')\n",
    "plt.xlabel('Epoch')\n",
    "plt.ylabel('Loss')\n",
    "plt.legend()\n",
    "\n",
    "# Plot for Training and Validation Error\n",
    "plt.subplot(1, 2, 2)\n",
    "plt.plot(train_error, label='Training Error', marker='o')  # Plotting error\n",
    "plt.plot(val_error, label='Validation Error', marker='o')  # Plotting error\n",
    "plt.title('Training and Validation Error')\n",
    "plt.xlabel('Epoch')\n",
    "plt.ylabel('Error Rate')\n",
    "plt.legend()\n",
    "\n",
    "plt.show()"
   ]
  },
  {
   "cell_type": "markdown",
   "metadata": {},
   "source": [
    "#### v. Report Precision, Recall, and F1 score for your model."
   ]
  },
  {
   "cell_type": "code",
   "execution_count": 35,
   "metadata": {},
   "outputs": [
    {
     "name": "stdout",
     "output_type": "stream",
     "text": [
      "2565/2565 [==============================] - 204s 79ms/step\n"
     ]
    }
   ],
   "source": [
    "best_model_eff = load_model('best_model_eff.h5')\n",
    "# Predict on the test dataset\n",
    "predictions = best_model_eff.predict(tf_dataset_test)\n",
    "predicted_labels = np.argmax(predictions, axis=1)"
   ]
  },
  {
   "cell_type": "code",
   "execution_count": 36,
   "metadata": {},
   "outputs": [
    {
     "name": "stdout",
     "output_type": "stream",
     "text": [
      "              precision    recall  f1-score   support\n",
      "\n",
      "           0       0.00      0.00      0.00      4418\n",
      "           1       0.66      1.00      0.79      8405\n",
      "\n",
      "    accuracy                           0.66     12823\n",
      "   macro avg       0.33      0.50      0.40     12823\n",
      "weighted avg       0.43      0.66      0.52     12823\n",
      "\n"
     ]
    }
   ],
   "source": [
    "# Extracting True Labels from the Test Dataset\n",
    "true_labels = []\n",
    "for images, labels in tf_dataset_test.unbatch():\n",
    "    true_labels.append(labels.numpy())\n",
    "\n",
    "true_labels = np.array(true_labels)\n",
    "\n",
    "predicted_labels_flat = predicted_labels.flatten()\n",
    "true_labels_flat = true_labels.flatten()\n",
    "\n",
    "report = classification_report(true_labels_flat, predicted_labels_flat)\n",
    "print(report)"
   ]
  },
  {
   "cell_type": "markdown",
   "metadata": {},
   "source": [
    "### ResNet50"
   ]
  },
  {
   "cell_type": "markdown",
   "metadata": {},
   "source": [
    "#### i. Pre-trained Model extraction"
   ]
  },
  {
   "cell_type": "markdown",
   "metadata": {},
   "source": [
    "> Do the same with ResNet50"
   ]
  },
  {
   "cell_type": "code",
   "execution_count": 37,
   "metadata": {},
   "outputs": [],
   "source": [
    "from tensorflow.keras.applications import ResNet50\n",
    "from tensorflow.keras.applications.resnet import preprocess_input\n",
    "\n",
    "base_model_resnet = ResNet50(weights='imagenet', include_top=False, input_shape=(224, 224, 3))\n",
    "base_model_resnet.trainable = False  # Freeze the base model"
   ]
  },
  {
   "cell_type": "markdown",
   "metadata": {},
   "source": [
    "#### ii. Data is already agumentated"
   ]
  },
  {
   "cell_type": "markdown",
   "metadata": {},
   "source": [
    "#### iii. Last layer"
   ]
  },
  {
   "cell_type": "code",
   "execution_count": 38,
   "metadata": {},
   "outputs": [],
   "source": [
    "resnet_model = Sequential([\n",
    "    base_model_resnet,\n",
    "    GlobalAveragePooling2D(),\n",
    "    BatchNormalization(),\n",
    "    Dropout(0.3),\n",
    "    Dense(128, activation='relu'),\n",
    "    Dense(2, activation='softmax')  # Assuming binary classification\n",
    "])"
   ]
  },
  {
   "cell_type": "markdown",
   "metadata": {},
   "source": [
    "#### iv. Train using the features calculated by networks"
   ]
  },
  {
   "cell_type": "code",
   "execution_count": 39,
   "metadata": {},
   "outputs": [
    {
     "name": "stdout",
     "output_type": "stream",
     "text": [
      "Epoch 1/10\n",
      "5936/5936 [==============================] - 1715s 288ms/step - loss: 0.5214 - accuracy: 0.7357 - val_loss: 0.8433 - val_accuracy: 0.4285\n",
      "Epoch 2/10\n",
      "5936/5936 [==============================] - 1623s 273ms/step - loss: 0.4876 - accuracy: 0.7589 - val_loss: 1.3697 - val_accuracy: 0.3757\n",
      "Epoch 3/10\n",
      "5936/5936 [==============================] - 1588s 267ms/step - loss: 0.4746 - accuracy: 0.7638 - val_loss: 1.1109 - val_accuracy: 0.3962\n",
      "Epoch 4/10\n",
      "5936/5936 [==============================] - 1555s 262ms/step - loss: 0.4681 - accuracy: 0.7690 - val_loss: 1.2166 - val_accuracy: 0.3534\n",
      "Epoch 5/10\n",
      "5936/5936 [==============================] - 1549s 261ms/step - loss: 0.4588 - accuracy: 0.7727 - val_loss: 1.4836 - val_accuracy: 0.3380\n"
     ]
    }
   ],
   "source": [
    "# Compile the model\n",
    "resnet_model.compile(optimizer='adam', loss='sparse_categorical_crossentropy', metrics=['accuracy'])\n",
    "\n",
    "# Early stopping and model checkpointing\n",
    "early_stopping = EarlyStopping(monitor='val_loss', patience=4, restore_best_weights=True)\n",
    "model_checkpoint = ModelCheckpoint('best_model_res.h5', monitor='val_loss', save_best_only=True)\n",
    "\n",
    "history_res = resnet_model.fit(\n",
    "    tf_dataset_train,\n",
    "    epochs=10,\n",
    "    validation_data=tf_dataset_val,\n",
    "    callbacks=[early_stopping, model_checkpoint]\n",
    ")"
   ]
  },
  {
   "cell_type": "code",
   "execution_count": 40,
   "metadata": {},
   "outputs": [
    {
     "data": {
      "image/png": "[encoded data removed]",
      "text/plain": [
       "<Figure size 1200x400 with 2 Axes>"
      ]
     },
     "metadata": {},
     "output_type": "display_data"
    }
   ],
   "source": [
    "# Calculate error rates\n",
    "train_error = [1 - acc for acc in history_res.history['accuracy']]\n",
    "val_error = [1 - acc for acc in history_res.history['val_accuracy']]\n",
    "\n",
    "# Plotting\n",
    "plt.figure(figsize=(12, 4))\n",
    "\n",
    "# Plot for Training and Validation Loss\n",
    "plt.subplot(1, 2, 1)\n",
    "plt.plot(history_res.history['loss'], label='Training Loss', marker='o')  # Added marker\n",
    "plt.plot(history_res.history['val_loss'], label='Validation Loss', marker='o')  # Added marker\n",
    "plt.title('Training and Validation Loss')\n",
    "plt.xlabel('Epoch')\n",
    "plt.ylabel('Loss')\n",
    "plt.legend()\n",
    "\n",
    "# Plot for Training and Validation Error\n",
    "plt.subplot(1, 2, 2)\n",
    "plt.plot(train_error, label='Training Error', marker='o')  # Plotting error\n",
    "plt.plot(val_error, label='Validation Error', marker='o')  # Plotting error\n",
    "plt.title('Training and Validation Error')\n",
    "plt.xlabel('Epoch')\n",
    "plt.ylabel('Error Rate')\n",
    "plt.legend()\n",
    "\n",
    "plt.show()"
   ]
  },
  {
   "cell_type": "markdown",
   "metadata": {},
   "source": [
    "#### v. Report Precision, Recall, and F1 score for your model."
   ]
  },
  {
   "cell_type": "code",
   "execution_count": 41,
   "metadata": {},
   "outputs": [
    {
     "name": "stdout",
     "output_type": "stream",
     "text": [
      "2565/2565 [==============================] - 516s 201ms/step\n"
     ]
    }
   ],
   "source": [
    "best_model_res = load_model('best_model_res.h5')\n",
    "# Predict on the test dataset\n",
    "predictions = best_model_res.predict(tf_dataset_test)\n",
    "predicted_labels = np.argmax(predictions, axis=1)"
   ]
  },
  {
   "cell_type": "code",
   "execution_count": 42,
   "metadata": {},
   "outputs": [
    {
     "name": "stdout",
     "output_type": "stream",
     "text": [
      "              precision    recall  f1-score   support\n",
      "\n",
      "           0       0.34      0.16      0.22      4418\n",
      "           1       0.66      0.84      0.74      8405\n",
      "\n",
      "    accuracy                           0.61     12823\n",
      "   macro avg       0.50      0.50      0.48     12823\n",
      "weighted avg       0.55      0.61      0.56     12823\n",
      "\n"
     ]
    }
   ],
   "source": [
    "# Extracting True Labels from the Test Dataset\n",
    "true_labels = []\n",
    "for images, labels in tf_dataset_test.unbatch():\n",
    "    true_labels.append(labels.numpy())\n",
    "\n",
    "true_labels = np.array(true_labels)\n",
    "\n",
    "predicted_labels_flat = predicted_labels.flatten()\n",
    "true_labels_flat = true_labels.flatten()\n",
    "\n",
    "report = classification_report(true_labels_flat, predicted_labels_flat)\n",
    "print(report)"
   ]
  },
  {
   "cell_type": "markdown",
   "metadata": {},
   "source": [
    "### VGG16"
   ]
  },
  {
   "cell_type": "code",
   "execution_count": 43,
   "metadata": {},
   "outputs": [],
   "source": [
    "from tensorflow.keras.applications import VGG16\n",
    "from tensorflow.keras.applications.vgg16 import preprocess_input"
   ]
  },
  {
   "cell_type": "markdown",
   "metadata": {},
   "source": [
    "#### i. Pre-trained Model extraction"
   ]
  },
  {
   "cell_type": "code",
   "execution_count": 44,
   "metadata": {},
   "outputs": [],
   "source": [
    "# Initialize VGG16 as the base model for feature extraction\n",
    "base_model_vgg16 = VGG16(weights='imagenet', include_top=False, input_shape=(224, 224, 3))\n",
    "base_model_vgg16.trainable = False  # Freeze the base model"
   ]
  },
  {
   "cell_type": "markdown",
   "metadata": {},
   "source": [
    "#### ii. Data is already agumentated"
   ]
  },
  {
   "cell_type": "markdown",
   "metadata": {},
   "source": [
    "#### iii. Last layer"
   ]
  },
  {
   "cell_type": "code",
   "execution_count": 45,
   "metadata": {},
   "outputs": [],
   "source": [
    "vgg_model = Sequential([\n",
    "    base_model_vgg16,\n",
    "    GlobalAveragePooling2D(),\n",
    "    BatchNormalization(),\n",
    "    Dropout(0.3),\n",
    "    Dense(128, activation='relu'),\n",
    "    Dense(2, activation='softmax')  # Assuming binary classification\n",
    "])"
   ]
  },
  {
   "cell_type": "markdown",
   "metadata": {},
   "source": [
    "#### iv. Train using the features calculated by networks"
   ]
  },
  {
   "cell_type": "code",
   "execution_count": 46,
   "metadata": {},
   "outputs": [
    {
     "name": "stdout",
     "output_type": "stream",
     "text": [
      "Epoch 1/10\n",
      "5936/5936 [==============================] - 3899s 657ms/step - loss: 0.3948 - accuracy: 0.8179 - val_loss: 3.7041 - val_accuracy: 0.3645\n",
      "Epoch 2/10\n",
      "5936/5936 [==============================] - 3896s 656ms/step - loss: 0.3268 - accuracy: 0.8537 - val_loss: 4.1204 - val_accuracy: 0.3839\n",
      "Epoch 3/10\n",
      "5936/5936 [==============================] - 3904s 658ms/step - loss: 0.3044 - accuracy: 0.8656 - val_loss: 4.9040 - val_accuracy: 0.4193\n",
      "Epoch 4/10\n",
      "5936/5936 [==============================] - 3863s 651ms/step - loss: 0.2823 - accuracy: 0.8729 - val_loss: 4.1701 - val_accuracy: 0.4235\n",
      "Epoch 5/10\n",
      "5936/5936 [==============================] - 3999s 674ms/step - loss: 0.2808 - accuracy: 0.8768 - val_loss: 7.5733 - val_accuracy: 0.3569\n"
     ]
    }
   ],
   "source": [
    "# Compile the model\n",
    "vgg_model.compile(optimizer='adam', loss='sparse_categorical_crossentropy', metrics=['accuracy'])\n",
    "\n",
    "# Early stopping and model checkpointing\n",
    "early_stopping = EarlyStopping(monitor='val_loss', patience=4, restore_best_weights=True)\n",
    "model_checkpoint = ModelCheckpoint('best_model_vgg.h5', monitor='val_loss', save_best_only=True)\n",
    "\n",
    "history_vgg = vgg_model.fit(\n",
    "    tf_dataset_train,\n",
    "    epochs=10,\n",
    "    validation_data=tf_dataset_val,\n",
    "    callbacks=[early_stopping, model_checkpoint]\n",
    ")"
   ]
  },
  {
   "cell_type": "code",
   "execution_count": 47,
   "metadata": {},
   "outputs": [
    {
     "data": {
      "image/png": "[encoded data removed]",
      "text/plain": [
       "<Figure size 1200x400 with 2 Axes>"
      ]
     },
     "metadata": {},
     "output_type": "display_data"
    }
   ],
   "source": [
    "# Calculate error rates\n",
    "train_error = [1 - acc for acc in history_vgg.history['accuracy']]\n",
    "val_error = [1 - acc for acc in history_vgg.history['val_accuracy']]\n",
    "\n",
    "# Plotting\n",
    "plt.figure(figsize=(12, 4))\n",
    "\n",
    "# Plot for Training and Validation Loss\n",
    "plt.subplot(1, 2, 1)\n",
    "plt.plot(history_vgg.history['loss'], label='Training Loss', marker='o')  # Added marker\n",
    "plt.plot(history_vgg.history['val_loss'], label='Validation Loss', marker='o')  # Added marker\n",
    "plt.title('Training and Validation Loss')\n",
    "plt.xlabel('Epoch')\n",
    "plt.ylabel('Loss')\n",
    "plt.legend()\n",
    "\n",
    "# Plot for Training and Validation Error\n",
    "plt.subplot(1, 2, 2)\n",
    "plt.plot(train_error, label='Training Error', marker='o')  # Plotting error\n",
    "plt.plot(val_error, label='Validation Error', marker='o')  # Plotting error\n",
    "plt.title('Training and Validation Error')\n",
    "plt.xlabel('Epoch')\n",
    "plt.ylabel('Error Rate')\n",
    "plt.legend()\n",
    "\n",
    "plt.show()"
   ]
  },
  {
   "cell_type": "markdown",
   "metadata": {},
   "source": [
    "#### v. Report Precision, Recall, and F1 score for your model."
   ]
  },
  {
   "cell_type": "code",
   "execution_count": 48,
   "metadata": {},
   "outputs": [
    {
     "name": "stdout",
     "output_type": "stream",
     "text": [
      "2565/2565 [==============================] - 1299s 506ms/step\n"
     ]
    }
   ],
   "source": [
    "best_model_vgg = load_model('best_model_vgg.h5')\n",
    "# Predict on the test dataset\n",
    "predictions = best_model_vgg.predict(tf_dataset_test)\n",
    "predicted_labels = np.argmax(predictions, axis=1)"
   ]
  },
  {
   "cell_type": "code",
   "execution_count": 49,
   "metadata": {},
   "outputs": [
    {
     "name": "stdout",
     "output_type": "stream",
     "text": [
      "              precision    recall  f1-score   support\n",
      "\n",
      "           0       0.33      0.08      0.13      4418\n",
      "           1       0.65      0.91      0.76      8405\n",
      "\n",
      "    accuracy                           0.63     12823\n",
      "   macro avg       0.49      0.50      0.45     12823\n",
      "weighted avg       0.54      0.63      0.55     12823\n",
      "\n"
     ]
    }
   ],
   "source": [
    "# Extracting True Labels from the Test Dataset\n",
    "true_labels = []\n",
    "for images, labels in tf_dataset_test.unbatch():\n",
    "    true_labels.append(labels.numpy())\n",
    "\n",
    "true_labels = np.array(true_labels)\n",
    "\n",
    "predicted_labels_flat = predicted_labels.flatten()\n",
    "true_labels_flat = true_labels.flatten()\n",
    "\n",
    "report = classification_report(true_labels_flat, predicted_labels_flat)\n",
    "print(report)"
   ]
  },
  {
   "cell_type": "markdown",
   "metadata": {},
   "source": [
    "### iv.  Compare the results of transfer learning with those of CNN + MLP model and explain them."
   ]
  },
  {
   "cell_type": "markdown",
   "metadata": {},
   "source": [
    "> CNN+MLP's validation accuracy significantly improved during epoch processes.\n",
    "CNN+MLP model actually showed it learned from each epoches whereas pre-trained model seemed not much to be improved by the last layer.\n",
    "\n",
    "> Pre-trained models are prone to overfit or underfit excessively. Either they do high recall on Class 0 or Class 1. However ResNet did good performance among the other pre-trained models in termed of classifying Class 1 ('Frost')\n",
    "\n",
    "> Although pre-trained models are much faster and less computationally expensive, they are not significantly better than our model using CNN + MLP, also not useful in terms of classifiying class 1 correctly. I assume those pretrained networks are made from almost every images of things in the earth. Geographical images of Mars would just whole different set of data compared from what those pretrained model used to be trained. Meanwhile accuracy was not great, The CNN+MLP model has better balanched ability to identify class 0, demonstrating a much better balance in recognizing both classes, particularly for class 0."
   ]
  },
  {
   "cell_type": "markdown",
   "metadata": {},
   "source": [
    "# (THE END)"
   ]
  }
 ],
 "metadata": {
  "kernelspec": {
   "display_name": "Python 3 (ipykernel)",
   "language": "python",
   "name": "python3"
  },
  "language_info": {
   "codemirror_mode": {
    "name": "ipython",
    "version": 3
   },
   "file_extension": ".py",
   "mimetype": "text/x-python",
   "name": "python",
   "nbconvert_exporter": "python",
   "pygments_lexer": "ipython3",
   "version": "3.11.4"
  }
 },
 "nbformat": 4,
 "nbformat_minor": 2
}
